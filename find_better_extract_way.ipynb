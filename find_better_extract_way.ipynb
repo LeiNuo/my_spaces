{
 "cells": [
  {
   "cell_type": "code",
   "execution_count": 86,
   "id": "5eda6201-b4a3-42cc-a12f-c453e55baa65",
   "metadata": {},
   "outputs": [],
   "source": [
    "import jieba\n",
    "import pandas as pd\n",
    "from collections import defaultdict\n",
    "import math\n",
    "import operator\n",
    "\n",
    "jieba.initialize()"
   ]
  },
  {
   "cell_type": "markdown",
   "id": "2eab671f-24ab-4083-8243-b2f83d11325d",
   "metadata": {},
   "source": [
    "# 最简单的TF-IDF分类算法"
   ]
  },
  {
   "cell_type": "code",
   "execution_count": 87,
   "id": "d32dd960-be3f-46a8-ba2b-41d93a271ef6",
   "metadata": {},
   "outputs": [
    {
     "name": "stdout",
     "output_type": "stream",
     "text": [
      "11594\n"
     ]
    }
   ],
   "source": [
    "def load_abstract():\n",
    "    train_df_iter = pd.read_csv('datasets/train_dataset.csv', sep='|')\n",
    "    results = []\n",
    "    for i in train_df_iter['abstract'].tolist():\n",
    "\n",
    "        target = jieba.cut(i, HMM=False)\n",
    "        results.append([i for i in target])\n",
    "    return results\n",
    "\n",
    "def feature_select(list_words):\n",
    "    # 总词频统计\n",
    "    doc_frequency = defaultdict(int)\n",
    "    for word_list in list_words:\n",
    "        for i in word_list:\n",
    "            doc_frequency[i] += 1\n",
    "\n",
    "    # 计算每个词的TF值\n",
    "    word_tf = {}  # 存储没个词的tf值\n",
    "    for i in doc_frequency:\n",
    "        word_tf[i] = doc_frequency[i] / sum(doc_frequency.values())\n",
    "\n",
    "    # 计算每个词的IDF值\n",
    "    doc_num = len(list_words)\n",
    "    word_idf = {}  # 存储每个词的idf值\n",
    "    word_doc = defaultdict(int)  # 存储包含该词的文档数\n",
    "    for i in doc_frequency:\n",
    "        for j in list_words:\n",
    "            if i in j:\n",
    "                word_doc[i] += 1\n",
    "    for i in doc_frequency:\n",
    "        word_idf[i] = math.log(doc_num / (word_doc[i] + 1))\n",
    "\n",
    "    # 计算每个词的TF*IDF的值\n",
    "    word_tf_idf = {}\n",
    "    for i in doc_frequency:\n",
    "        word_tf_idf[i] = word_tf[i] * word_idf[i]\n",
    "\n",
    "    # 对字典按值由大到小排序\n",
    "    dict_feature_select = sorted(word_tf_idf.items(), key=operator.itemgetter(1), reverse=True)\n",
    "    return dict_feature_select\n",
    "\n",
    "\n",
    "data_list = load_abstract()  # 加载数据\n",
    "features = feature_select(data_list)  # 所有词的TF-IDF值\n",
    "print(len(features))\n",
    "\n",
    "with open('datasets/tf_idf.text', 'w', encoding='UTF-8') as writer:\n",
    "    writer.writelines('\\n'.join([f'{i[0]} {i[1]*1000}' for i in features]))"
   ]
  },
  {
   "cell_type": "code",
   "execution_count": 134,
   "id": "4763d477-a632-4f8a-a426-c4beb0c1062b",
   "metadata": {},
   "outputs": [],
   "source": [
    "import jieba.analyse\n",
    "import pandas as pd\n",
    "jieba.analyse.set_idf_path(\"./datasets/tf_idf.text\")\n",
    "\n",
    "def find_key_words(row):\n",
    "    return jieba.analyse.textrank(row.encode('utf-8'), topK=5, withWeight=False, allowPOS=('ns', 'n', 'vn', 'v'))\n",
    "\n",
    "train_df['textrank'] = train_df['abstract'].apply(find_key_words)\n",
    "train_df = train_df.rename(columns={'keys':'high_key'})\n",
    "\n",
    "train_df = train_df[~(train_df[\"abstract\"].str.contains('\\t\\t')&train_df[\"abstract\"].str.contains(':'))]\n",
    "train_df = train_df[~(train_df[\"abstract\"].str.contains('1、')&train_df[\"abstract\"].str.contains(':'))]\n",
    "\n",
    "def find_key_words(row):\n",
    "    result = []\n",
    "    for i in ['限速', '骚扰', '前期', '信号', '短信', '基站', '额度', '流量', '前期', '减免']:\n",
    "        if i in row['abstract']:\n",
    "            result.append(i)\n",
    "    return result\n",
    "\n",
    "train_df['own_key'] = train_df.apply(find_key_words,axis=1)\n",
    "train_df.to_csv('datasets/train_dataset_key.csv', index=False, sep='|')"
   ]
  },
  {
   "cell_type": "code",
   "execution_count": null,
   "id": "1626a6b4-b51f-4624-a0a1-8409f00755ea",
   "metadata": {},
   "outputs": [],
   "source": [
    "相似的信息\n",
    "信用额度：透支\n",
    "中文转数字\n",
    "带有'\\t'得都删除\n",
    "\n",
    "\n",
    "限速\n",
    "骚扰\n",
    "前期\n",
    "信号\n",
    "短信\n",
    "基站\n",
    "信用额度\n",
    "流量\n",
    "前期\n",
    "减免\n",
    "\n",
    "所在位置->基站\n",
    "#rule base\n",
    "奇怪的abstract的格式，\n",
    "交了费用但是没有续费成功\n"
   ]
  },
  {
   "cell_type": "code",
   "execution_count": 256,
   "id": "5a85f6dd-4854-4659-8b84-6d258872125b",
   "metadata": {},
   "outputs": [],
   "source": []
  },
  {
   "cell_type": "code",
   "execution_count": null,
   "id": "2ed5e991-033e-4164-b29c-ecc7fe226001",
   "metadata": {},
   "outputs": [],
   "source": []
  }
 ],
 "metadata": {
  "kernelspec": {
   "display_name": "Python 3 (ipykernel)",
   "language": "python",
   "name": "python3"
  },
  "language_info": {
   "codemirror_mode": {
    "name": "ipython",
    "version": 3
   },
   "file_extension": ".py",
   "mimetype": "text/x-python",
   "name": "python",
   "nbconvert_exporter": "python",
   "pygments_lexer": "ipython3",
   "version": "3.8.5"
  }
 },
 "nbformat": 4,
 "nbformat_minor": 5
}
