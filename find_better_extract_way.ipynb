{
 "cells": [
  {
   "cell_type": "code",
   "execution_count": 4,
   "id": "5eda6201-b4a3-42cc-a12f-c453e55baa65",
   "metadata": {},
   "outputs": [],
   "source": [
    "import jieba\n",
    "import pandas as pd\n",
    "from collections import defaultdict\n",
    "import math\n",
    "import operator\n",
    "from tqdm import tqdm\n",
    "\n",
    "jieba.initialize()"
   ]
  },
  {
   "cell_type": "markdown",
   "id": "2eab671f-24ab-4083-8243-b2f83d11325d",
   "metadata": {},
   "source": [
    "# 最简单的TF-IDF分类算法"
   ]
  },
  {
   "cell_type": "code",
   "execution_count": 2,
   "id": "d32dd960-be3f-46a8-ba2b-41d93a271ef6",
   "metadata": {},
   "outputs": [
    {
     "ename": "KeyboardInterrupt",
     "evalue": "",
     "output_type": "error",
     "traceback": [
      "\u001b[1;31m---------------------------------------------------------------------------\u001b[0m",
      "\u001b[1;31mKeyboardInterrupt\u001b[0m                         Traceback (most recent call last)",
      "\u001b[1;32m~\\AppData\\Local\\Temp/ipykernel_12020/388945522.py\u001b[0m in \u001b[0;36m<module>\u001b[1;34m\u001b[0m\n\u001b[0;32m     42\u001b[0m \u001b[1;33m\u001b[0m\u001b[0m\n\u001b[0;32m     43\u001b[0m \u001b[0mdata_list\u001b[0m \u001b[1;33m=\u001b[0m \u001b[0mload_abstract\u001b[0m\u001b[1;33m(\u001b[0m\u001b[1;33m)\u001b[0m  \u001b[1;31m# 加载数据\u001b[0m\u001b[1;33m\u001b[0m\u001b[1;33m\u001b[0m\u001b[0m\n\u001b[1;32m---> 44\u001b[1;33m \u001b[0mfeatures\u001b[0m \u001b[1;33m=\u001b[0m \u001b[0mfeature_select\u001b[0m\u001b[1;33m(\u001b[0m\u001b[0mdata_list\u001b[0m\u001b[1;33m)\u001b[0m  \u001b[1;31m# 所有词的TF-IDF值\u001b[0m\u001b[1;33m\u001b[0m\u001b[1;33m\u001b[0m\u001b[0m\n\u001b[0m\u001b[0;32m     45\u001b[0m \u001b[0mprint\u001b[0m\u001b[1;33m(\u001b[0m\u001b[0mlen\u001b[0m\u001b[1;33m(\u001b[0m\u001b[0mfeatures\u001b[0m\u001b[1;33m)\u001b[0m\u001b[1;33m)\u001b[0m\u001b[1;33m\u001b[0m\u001b[1;33m\u001b[0m\u001b[0m\n\u001b[0;32m     46\u001b[0m \u001b[1;33m\u001b[0m\u001b[0m\n",
      "\u001b[1;32m~\\AppData\\Local\\Temp/ipykernel_12020/388945522.py\u001b[0m in \u001b[0;36mfeature_select\u001b[1;34m(list_words)\u001b[0m\n\u001b[0;32m     27\u001b[0m         \u001b[1;32mfor\u001b[0m \u001b[0mj\u001b[0m \u001b[1;32min\u001b[0m \u001b[0mlist_words\u001b[0m\u001b[1;33m:\u001b[0m\u001b[1;33m\u001b[0m\u001b[1;33m\u001b[0m\u001b[0m\n\u001b[0;32m     28\u001b[0m             \u001b[1;32mif\u001b[0m \u001b[0mi\u001b[0m \u001b[1;32min\u001b[0m \u001b[0mj\u001b[0m\u001b[1;33m:\u001b[0m\u001b[1;33m\u001b[0m\u001b[1;33m\u001b[0m\u001b[0m\n\u001b[1;32m---> 29\u001b[1;33m                 \u001b[0mword_doc\u001b[0m\u001b[1;33m[\u001b[0m\u001b[0mi\u001b[0m\u001b[1;33m]\u001b[0m \u001b[1;33m+=\u001b[0m \u001b[1;36m1\u001b[0m\u001b[1;33m\u001b[0m\u001b[1;33m\u001b[0m\u001b[0m\n\u001b[0m\u001b[0;32m     30\u001b[0m     \u001b[1;32mfor\u001b[0m \u001b[0mi\u001b[0m \u001b[1;32min\u001b[0m \u001b[0mdoc_frequency\u001b[0m\u001b[1;33m:\u001b[0m\u001b[1;33m\u001b[0m\u001b[1;33m\u001b[0m\u001b[0m\n\u001b[0;32m     31\u001b[0m         \u001b[0mword_idf\u001b[0m\u001b[1;33m[\u001b[0m\u001b[0mi\u001b[0m\u001b[1;33m]\u001b[0m \u001b[1;33m=\u001b[0m \u001b[0mmath\u001b[0m\u001b[1;33m.\u001b[0m\u001b[0mlog\u001b[0m\u001b[1;33m(\u001b[0m\u001b[0mdoc_num\u001b[0m \u001b[1;33m/\u001b[0m \u001b[1;33m(\u001b[0m\u001b[0mword_doc\u001b[0m\u001b[1;33m[\u001b[0m\u001b[0mi\u001b[0m\u001b[1;33m]\u001b[0m \u001b[1;33m+\u001b[0m \u001b[1;36m1\u001b[0m\u001b[1;33m)\u001b[0m\u001b[1;33m)\u001b[0m\u001b[1;33m\u001b[0m\u001b[1;33m\u001b[0m\u001b[0m\n",
      "\u001b[1;31mKeyboardInterrupt\u001b[0m: "
     ]
    }
   ],
   "source": [
    "def load_abstract():\n",
    "    train_df_iter = pd.read_csv('datasets/train_dataset.csv', sep='|')\n",
    "    results = []\n",
    "    for i in train_df_iter['abstract'].tolist():\n",
    "\n",
    "        target = jieba.cut(i, HMM=False)\n",
    "        results.append([i for i in target])\n",
    "    return results\n",
    "\n",
    "def feature_select(list_words):\n",
    "    # 总词频统计\n",
    "    doc_frequency = defaultdict(int)\n",
    "    for word_list in list_words:\n",
    "        for i in word_list:\n",
    "            doc_frequency[i] += 1\n",
    "\n",
    "    # 计算每个词的TF值\n",
    "    word_tf = {}  # 存储没个词的tf值\n",
    "    for i in doc_frequency:\n",
    "        word_tf[i] = doc_frequency[i] / sum(doc_frequency.values())\n",
    "\n",
    "    # 计算每个词的IDF值\n",
    "    doc_num = len(list_words)\n",
    "    word_idf = {}  # 存储每个词的idf值\n",
    "    word_doc = defaultdict(int)  # 存储包含该词的文档数\n",
    "    for i in doc_frequency:\n",
    "        for j in list_words:\n",
    "            if i in j:\n",
    "                word_doc[i] += 1\n",
    "    for i in doc_frequency:\n",
    "        word_idf[i] = math.log(doc_num / (word_doc[i] + 1))\n",
    "\n",
    "    # 计算每个词的TF*IDF的值\n",
    "    word_tf_idf = {}\n",
    "    for i in doc_frequency:\n",
    "        word_tf_idf[i] = word_tf[i] * word_idf[i]\n",
    "\n",
    "    # 对字典按值由大到小排序\n",
    "    dict_feature_select = sorted(word_tf_idf.items(), key=operator.itemgetter(1), reverse=True)\n",
    "    return dict_feature_select\n",
    "\n",
    "\n",
    "data_list = load_abstract()  # 加载数据\n",
    "features = feature_select(data_list)  # 所有词的TF-IDF值\n",
    "print(len(features))\n",
    "\n",
    "with open('datasets/tf_idf.text', 'w', encoding='UTF-8') as writer:\n",
    "    writer.writelines('\\n'.join([f'{i[0]} {i[1]*1000}' for i in features]))"
   ]
  },
  {
   "cell_type": "code",
   "execution_count": 134,
   "id": "4763d477-a632-4f8a-a426-c4beb0c1062b",
   "metadata": {},
   "outputs": [],
   "source": [
    "import jieba.analyse\n",
    "import pandas as pd\n",
    "jieba.analyse.set_idf_path(\"./datasets/tf_idf.text\")\n",
    "\n",
    "def find_key_words(row):\n",
    "    return jieba.analyse.textrank(row.encode('utf-8'), topK=5, withWeight=False, allowPOS=('ns', 'n', 'vn', 'v'))\n",
    "\n",
    "train_df['textrank'] = train_df['abstract'].apply(find_key_words)\n",
    "train_df = train_df.rename(columns={'keys':'high_key'})\n",
    "\n",
    "train_df = train_df[~(train_df[\"abstract\"].str.contains('\\t\\t')&train_df[\"abstract\"].str.contains(':'))]\n",
    "train_df = train_df[~(train_df[\"abstract\"].str.contains('1、')&train_df[\"abstract\"].str.contains(':'))]\n",
    "\n",
    "def find_key_words(row):\n",
    "    result = []\n",
    "    for i in ['限速', '骚扰', '前期', '信号', '短信', '基站', '额度', '流量', '前期', '减免']:\n",
    "        if i in row['abstract']:\n",
    "            result.append(i)\n",
    "    return result\n",
    "\n",
    "train_df['own_key'] = train_df.apply(find_key_words,axis=1)\n",
    "train_df.to_csv('datasets/train_dataset_key.csv', index=False, sep='|')"
   ]
  },
  {
   "cell_type": "code",
   "execution_count": null,
   "id": "1626a6b4-b51f-4624-a0a1-8409f00755ea",
   "metadata": {},
   "outputs": [],
   "source": [
    "相似的信息\n",
    "信用额度：透支\n",
    "中文转数字\n",
    "带有'\\t'得都删除\n",
    "\n",
    "\n",
    "限速\n",
    "骚扰\n",
    "前期\n",
    "信号\n",
    "短信\n",
    "基站\n",
    "信用额度\n",
    "流量\n",
    "前期\n",
    "减免\n",
    "\n",
    "所在位置->基站\n",
    "#rule base\n",
    "奇怪的abstract的格式，\n",
    "交了费用但是没有续费成功\n"
   ]
  },
  {
   "cell_type": "code",
   "execution_count": 5,
   "id": "5a85f6dd-4854-4659-8b84-6d258872125b",
   "metadata": {},
   "outputs": [
    {
     "name": "stderr",
     "output_type": "stream",
     "text": [
      "0it [00:00, ?it/s]\n"
     ]
    }
   ],
   "source": [
    "train_df_iter = pd.read_csv('datasets/train_dataset.csv', sep='|', chunksize=1000)\n",
    "for train_df in tqdm(train_df_iter):\n",
    "    break"
   ]
  },
  {
   "cell_type": "code",
   "execution_count": 8,
   "id": "2ed5e991-033e-4164-b29c-ecc7fe226001",
   "metadata": {},
   "outputs": [],
   "source": [
    "cc = train_df['content'].loc[0]"
   ]
  },
  {
   "cell_type": "code",
   "execution_count": 10,
   "id": "be3d55f5-b6ef-4918-8635-1aa27d38dbc6",
   "metadata": {},
   "outputs": [
    {
     "data": {
      "text/plain": [
       "['',\n",
       " '您好，实习话务员为您，【客户】服务，喂，你好，是这样的，我那个我的电话因为上次突然把给我停机了，我不知道啥意思，然后我就好长时间没有使用，我这次拿着10，怎么我欠费160多了？噢，我想问一下，我这机器现在是在停机状态吧，',\n",
       " '嗯，对是的？【客户】对停机状态，你们怎么还收我费用啊，',\n",
       " '嗯，您稍等这边看的话，先生，咱们这12月份的话是没有收您的费用的，这边是这个产生的费用是您11月份的女士先生，【客户】那我11月份我现在-160，那我想问一下，那我这个怎么能-160？我始终没超一个星期，他就你们就给我停机了，因为那我忙着在外地出差，我就没有，我就没有那个办这个找你们，',\n",
       " '嗯，先生这边看的话，先生，您是一个就是11月份的话，有一个是，嗯，基本套餐费是88块钱，还有您上个月未结清的话费是76块钱，【客户】但是我刚才你们给我反馈那个是我欠160多，',\n",
       " '嗯，对是的先生，就是您这160多，嗯，160多是产生的，是11月份的结转11月份的，总消费是88，还有您10月还有一个是10月份未结清的话，是76块钱？【客户】我没有结清的，我就想问你，你帮我查一下，我打几天电话，我哪来的那个？还有那么多没结清呢，我就不明白，我一个包月电话我都没有打出去多少电话，我这流我这是4000分钟，是两三千分钟啊，那那么多话费我根本都没有打几个，他怎么就我又欠那么多钱呢',\n",
       " '嗯，先生，您这个是阿里大包，嗯，就是三角大大宝卡吗？先生每个月基本月租费是88块钱的，里面是给您包含500分钟通话工作，工作员是二百两千五百分钟，相当于3000分钟吗？先生，还有两个G的流量，【客户】对呀，',\n",
       " '嗯，它这个是如果您，嗯没有超出的话，每个月是收您88块钱的先生，【客户】对呀，那我也没有超出啊，你怎么还有我查，我这还欠那么多费呢',\n",
       " '这嗯，就每个月正常扣您的套餐费用，先生88块钱套餐费用，先生这个是，【客户】对，但是我这个你看一下，你看看你从我开始，我注册这号到停机，您看看我使这几天你你对你们，你查一下看我使了几天，我怎么的就是有这个还有欠费呢，我这还没，我还说实在我找你们，我这使那几天，我那88块钱你们都给我退我，',\n",
       " '嗯这边看的话是在9月份给您给您停的机先生，【客户】对啊，9月份我是9月几号开通的这个卡呀',\n",
       " '嗯，您这是9月1号给您开通的卡先生，【客户】对9月份9月1号开通卡，应该没超过，9月10号，你就把我这个停了应该，',\n",
       " '嗯是的先生，【客户】对呀，那你说那那您您觉得我这个怎么弄，你，你说我该怎么弄？您觉得你们问问你们公司领导，我这个怎么能查算合理呀',\n",
       " '嗯，您看这样好吧先生，就是您这个问题的话，咱们这边给您记录反馈一下，稍后有咱们的专员给您回电，然后到底是这个问题如何给您解决？您看这样吧，先生【客户】行你，',\n",
       " '就联系，嗯好联系电话联系您，哪个手机号码呢先生，【客户】你就联系这个就行，',\n",
       " '嗯，这边的话不是已经是给您暂停服务了，先生这边就怕咱们联系您的话，也是无法无法接听电话的，先生无法打通的，【客户】他给我打那个185，185，1951',\n",
       " '********，嗯，就联系您这个号码了，先生，【客户】4089对',\n",
       " '嗯，您看还有什么问题可以帮您的吗？先生，【客户】没有了，你再给我把这给我解决一下吧，好吧，',\n",
       " '嗯，好，嗯，好的先生，【客户】嗯',\n",
       " '感谢您的来电，请您稍后对服务评价中帮我按个十分满意，谢谢']"
      ]
     },
     "execution_count": 10,
     "metadata": {},
     "output_type": "execute_result"
    }
   ],
   "source": [
    "cc.split('【坐席】')"
   ]
  },
  {
   "cell_type": "code",
   "execution_count": null,
   "id": "0c292429-db3b-4844-be40-bd0bb545ddc3",
   "metadata": {},
   "outputs": [],
   "source": []
  }
 ],
 "metadata": {
  "kernelspec": {
   "display_name": "Python 3 (ipykernel)",
   "language": "python",
   "name": "python3"
  },
  "language_info": {
   "codemirror_mode": {
    "name": "ipython",
    "version": 3
   },
   "file_extension": ".py",
   "mimetype": "text/x-python",
   "name": "python",
   "nbconvert_exporter": "python",
   "pygments_lexer": "ipython3",
   "version": "3.8.5"
  }
 },
 "nbformat": 4,
 "nbformat_minor": 5
}
